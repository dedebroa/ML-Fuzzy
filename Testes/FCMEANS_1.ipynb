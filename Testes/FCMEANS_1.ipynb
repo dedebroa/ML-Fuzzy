{
 "cells": [
  {
   "cell_type": "code",
   "execution_count": null,
   "id": "aa6f4f5d-f385-4c11-a3ed-76a233fa3453",
   "metadata": {},
   "outputs": [],
   "source": [
    "https://www.youtube.com/watch?v=WOUMZatSiLM"
   ]
  }
 ],
 "metadata": {
  "kernelspec": {
   "display_name": "ilumpy",
   "language": "python",
   "name": "ilumpy"
  },
  "language_info": {
   "codemirror_mode": {
    "name": "ipython",
    "version": 3
   },
   "file_extension": ".py",
   "mimetype": "text/x-python",
   "name": "python",
   "nbconvert_exporter": "python",
   "pygments_lexer": "ipython3",
   "version": "3.9.7"
  }
 },
 "nbformat": 4,
 "nbformat_minor": 5
}
